{
 "cells": [
  {
   "cell_type": "markdown",
   "id": "004e80e4",
   "metadata": {},
   "source": [
    "Import the neccessary libraries"
   ]
  },
  {
   "cell_type": "code",
   "execution_count": 64,
   "id": "8f44533e",
   "metadata": {},
   "outputs": [],
   "source": [
    "import pandas as pd\n",
    "import numpy as np\n",
    "import matplotlib.pyplot as plt\n",
    "from sklearn.model_selection import train_test_split\n",
    "from sklearn.linear_model import LinearRegression\n",
    "from sklearn.preprocessing import PolynomialFeatures\n",
    "from sklearn.metrics import mean_squared_error,r2_score"
   ]
  },
  {
   "cell_type": "markdown",
   "id": "68c011dd",
   "metadata": {},
   "source": [
    "Data Loading"
   ]
  },
  {
   "cell_type": "code",
   "execution_count": 65,
   "id": "1bc7f62a",
   "metadata": {},
   "outputs": [
    {
     "name": "stdout",
     "output_type": "stream",
     "text": [
      "Data loaded successfully.\n"
     ]
    }
   ],
   "source": [
    "try:\n",
    "    df = pd.read_csv(\"data.csv\")\n",
    "    print(\"Data loaded successfully.\")\n",
    "except FileNotFoundError:\n",
    "    print(\"Error: The file 'data.csv' was not found.\")\n",
    "    exit()"
   ]
  },
  {
   "cell_type": "markdown",
   "id": "395d23f5",
   "metadata": {},
   "source": [
    "Data Preprocessing and Feature Engineering"
   ]
  },
  {
   "cell_type": "code",
   "execution_count": 66,
   "id": "ea23add4",
   "metadata": {},
   "outputs": [],
   "source": [
    "# Rename the columns for easier access\n",
    "df.columns = ['temperature', 'sales']\n",
    "\n",
    "# Define the features (X) and target (y)\n",
    "X = df[[\"temperature\"]] # Features (input to the model)\n",
    "y = df[\"sales\"] # Target variable (what we want to predict)"
   ]
  },
  {
   "cell_type": "markdown",
   "id": "3bb012f5",
   "metadata": {},
   "source": [
    "Data Splitting"
   ]
  },
  {
   "cell_type": "code",
   "execution_count": 67,
   "id": "3132c5f9",
   "metadata": {},
   "outputs": [],
   "source": [
    "# Split the data into training and testing sets\n",
    "X_train,X_test,y_train,y_test = train_test_split(X,y,test_size=0.2,random_state=42)"
   ]
  },
  {
   "cell_type": "markdown",
   "id": "3eda3039",
   "metadata": {},
   "source": [
    "Visualization before Training"
   ]
  },
  {
   "cell_type": "code",
   "execution_count": 68,
   "id": "09b773c6",
   "metadata": {},
   "outputs": [
    {
     "data": {
      "image/png": "[encoded data removed]",
      "text/plain": [
       "<Figure size 640x480 with 1 Axes>"
      ]
     },
     "metadata": {},
     "output_type": "display_data"
    }
   ],
   "source": [
    "plt.scatter(X,y)\n",
    "plt.title(\"Original Data\")\n",
    "plt.xlabel(\"Temperature (C)\")\n",
    "plt.ylabel(\"Ice Cream Sales (units)\")\n",
    "plt.grid(True)\n",
    "plt.show()"
   ]
  },
  {
   "cell_type": "markdown",
   "id": "9f2fc34a",
   "metadata": {},
   "source": [
    "Model Training"
   ]
  },
  {
   "cell_type": "code",
   "execution_count": 69,
   "id": "6ccd4afc",
   "metadata": {},
   "outputs": [],
   "source": [
    "# Train the Linear Regression model........\n",
    "linear_model = LinearRegression()\n",
    "linear_model.fit(X_train,y_train)\n",
    "# Make predictions and evaluate for Linear Model\n",
    "y_pred_linear = linear_model.predict(X_test)\n",
    "mse_linear = mean_squared_error(y_test,y_pred_linear)\n",
    "r2_linear = r2_score(y_test,y_pred_linear)\n",
    "\n",
    "\n",
    "# Train the polynominal Regression model.........\n",
    "# Choose the degree of the polynominal. A degree of 2 seems appropriate for this data\n",
    "# Because it forms the U shape\n",
    "\n",
    "degree = 2\n",
    "poly_features = PolynomialFeatures(degree=degree,include_bias=False)\n",
    "\n",
    "# Transform the features to include polynominal terms\n",
    "X_train_poly = poly_features.fit_transform(X_train)\n",
    "X_test_poly = poly_features.fit_transform(X_test)\n",
    "\n",
    "# Create and train thre polynominal model\n",
    "poly_model = LinearRegression()\n",
    "poly_model.fit(X_train_poly,y_train)\n",
    "\n",
    "# Make predictions and evaluate for polynominal Model\n",
    "y_pred_poly = poly_model.predict(X_test_poly)\n",
    "mse_poly = mean_squared_error(y_test,y_pred_poly)\n",
    "r2_poly = r2_score(y_test,y_pred_poly)"
   ]
  },
  {
   "cell_type": "markdown",
   "id": "5ca0fb72",
   "metadata": {},
   "source": [
    "Compare the Models"
   ]
  }
 ],
 "metadata": {
  "kernelspec": {
   "display_name": "Python 3",
   "language": "python",
   "name": "python3"
  },
  "language_info": {
   "codemirror_mode": {
    "name": "ipython",
    "version": 3
   },
   "file_extension": ".py",
   "mimetype": "text/x-python",
   "name": "python",
   "nbconvert_exporter": "python",
   "pygments_lexer": "ipython3",
   "version": "3.13.3"
  }
 },
 "nbformat": 4,
 "nbformat_minor": 5
}
